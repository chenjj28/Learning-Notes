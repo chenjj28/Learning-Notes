{
 "cells": [
  {
   "cell_type": "markdown",
   "metadata": {},
   "source": [
    "## random.choices()"
   ]
  },
  {
   "cell_type": "raw",
   "metadata": {},
   "source": [
    "random.choices(sequence, weights=None, cum_weights=None, k=1)"
   ]
  },
  {
   "cell_type": "markdown",
   "metadata": {},
   "source": [
    "| Parameter   \t| Description                                                                                                                                                                                                                    \t|\n",
    "|:-------------\t|:--------------------------------------------------------------------------------------------------------------------------------------------------------------------------------------------------------------------------------\t|\n",
    "| sequence    \t| Required. A sequence like a list, a tuple, a range of numbers etc.                                                                                                                                                             \t|\n",
    "| weights     \t| Optional. A list were you can weigh the possibility for each value.                                                                                                                                               \t|\n",
    "| cum_weights \t| Optional. A list were you can weigh the possibility for each value, only this time the possibility is accumulated.<br>Example: normal weights list: [2, 1, 1] is the same as this cum_weights list; [2, 3, 4]. \t|\n",
    "| k           \t| Optional. An integer defining the length of the returned list                                                                                                                                                                  \t|"
   ]
  },
  {
   "cell_type": "markdown",
   "metadata": {},
   "source": [
    "## Dictionary.get()"
   ]
  },
  {
   "cell_type": "markdown",
   "metadata": {},
   "source": [
    "| Parameter \t| Description                                                                             \t|\n",
    "|:-----------\t|:-----------------------------------------------------------------------------------------\t|\n",
    "| keyname   \t| Required. The keyname of the item you want to return the value from                     \t|\n",
    "| value     \t| Optional. A value to return if the specified key does not exist.<br>Default value None. \t|"
   ]
  },
  {
   "cell_type": "raw",
   "metadata": {},
   "source": [
    "如果keyname不在字典里，这里对value的赋值会直接传递给key；\n",
    "如果keyname存在于字典里，这里的value会被忽略"
   ]
  },
  {
   "cell_type": "markdown",
   "metadata": {},
   "source": [
    "## Python内置排列组合函数 \n",
    "poduct 笛卡尔积　　（有放回抽样排列）<br>\n",
    "permutations 排列　　（不放回抽样排列）<br>\n",
    "combinations 组合,没有重复　　（不放回抽样组合）<br>\n",
    "combinations_with_replacement 组合,有重复　　（有放回抽样组合）"
   ]
  },
  {
   "cell_type": "code",
   "execution_count": 1,
   "metadata": {},
   "outputs": [
    {
     "name": "stdout",
     "output_type": "stream",
     "text": [
      "Product: [('A', 'A'), ('A', 'B'), ('A', 'C'), ('A', 'D'), ('B', 'A'), ('B', 'B'), ('B', 'C'), ('B', 'D'), ('C', 'A'), ('C', 'B'), ('C', 'C'), ('C', 'D'), ('D', 'A'), ('D', 'B'), ('D', 'C'), ('D', 'D')]\n",
      "Permutations: [('A', 'B'), ('A', 'C'), ('A', 'D'), ('B', 'A'), ('B', 'C'), ('B', 'D'), ('C', 'A'), ('C', 'B'), ('C', 'D'), ('D', 'A'), ('D', 'B'), ('D', 'C')]\n",
      "Combinations: [('A', 'B'), ('A', 'C'), ('A', 'D'), ('B', 'C'), ('B', 'D'), ('C', 'D')]\n",
      "Combinations_with_replacement: [('A', 'A'), ('A', 'B'), ('A', 'C'), ('A', 'D'), ('B', 'B'), ('B', 'C'), ('B', 'D'), ('C', 'C'), ('C', 'D'), ('D', 'D')]\n"
     ]
    }
   ],
   "source": [
    "import itertools\n",
    "a = list(itertools.product('ABCD', repeat = 2))\n",
    "print('Product:',a)\n",
    "b = list(itertools.permutations('ABCD',2))\n",
    "print('Permutations:',b)\n",
    "c = list(itertools.combinations('ABCD',2))\n",
    "print('Combinations:',c)\n",
    "d = list(itertools.combinations_with_replacement('ABCD',2))\n",
    "print('Combinations_with_replacement:',d)"
   ]
  },
  {
   "cell_type": "code",
   "execution_count": null,
   "metadata": {},
   "outputs": [],
   "source": []
  }
 ],
 "metadata": {
  "kernelspec": {
   "display_name": "Python 3",
   "language": "python",
   "name": "python3"
  },
  "language_info": {
   "codemirror_mode": {
    "name": "ipython",
    "version": 3
   },
   "file_extension": ".py",
   "mimetype": "text/x-python",
   "name": "python",
   "nbconvert_exporter": "python",
   "pygments_lexer": "ipython3",
   "version": "3.7.6"
  },
  "varInspector": {
   "cols": {
    "lenName": 16,
    "lenType": 16,
    "lenVar": 40
   },
   "kernels_config": {
    "python": {
     "delete_cmd_postfix": "",
     "delete_cmd_prefix": "del ",
     "library": "var_list.py",
     "varRefreshCmd": "print(var_dic_list())"
    },
    "r": {
     "delete_cmd_postfix": ") ",
     "delete_cmd_prefix": "rm(",
     "library": "var_list.r",
     "varRefreshCmd": "cat(var_dic_list()) "
    }
   },
   "types_to_exclude": [
    "module",
    "function",
    "builtin_function_or_method",
    "instance",
    "_Feature"
   ],
   "window_display": false
  }
 },
 "nbformat": 4,
 "nbformat_minor": 4
}
