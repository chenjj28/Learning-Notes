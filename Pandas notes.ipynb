{
 "cells": [
  {
   "cell_type": "markdown",
   "metadata": {},
   "source": [
    "## Pandas数据结构：5种Dataframe创建方式"
   ]
  },
  {
   "cell_type": "markdown",
   "metadata": {},
   "source": [
    "1.由列表组成的字典创建，一般形式：data = {key1:[列表数据1]，key2:[列表数据2]}，pd.DataFrame(data,index = )<br>\n",
    "2.由Series组成的字典创建，一般形式：data = {key1:pd.Series(s1,index=[ ])，key2:pd.Series(s2,index=[ ])}，pd.DataFrame(data)<br>\n",
    "3.通过二维数组直接创建，一般形式：data = np.random.randint().reshape/np.array([]).reshape()，pd.DataFrame(data,index=,columns=[])<br>\n",
    "4.由字典组成的列表创建，一行字典，对应的是一行数据，pd.DataFrame(data,index=)<br>\n",
    "5.由字典组成的字典，pd.DataFrame(data,index=,columns=[])<br>\n",
    "参考： https://zhuanlan.zhihu.com/p/37856914"
   ]
  },
  {
   "cell_type": "markdown",
   "metadata": {},
   "source": [
    "## pandas读取文件"
   ]
  },
  {
   "cell_type": "markdown",
   "metadata": {},
   "source": [
    "| Format Type \t| Data Description     \t| Reader         \t| Writer       \t|\n",
    "|:-------------\t|:----------------------\t|:----------------\t|:--------------\t|\n",
    "| text        \t| CSV                  \t| read_csv       \t| to_csv       \t|\n",
    "| text        \t| JSON                 \t| read_json      \t| to_json      \t|\n",
    "| text        \t| HTML                 \t| read_html      \t| to_html      \t|\n",
    "| text        \t| Local clipboard      \t| read_clipboard \t| to_clipboard \t|\n",
    "| binary      \t| MS Excel             \t| read_excel     \t| to_excel     \t|\n",
    "| binary      \t| OpenDocument         \t| read_excel     \t|              \t|\n",
    "| binary      \t| HDF5 Format          \t| read_hdf       \t| to_hdf       \t|\n",
    "| binary      \t| Feather Format       \t| read_feather   \t| to_feather   \t|\n",
    "| binary      \t| Parquet Format       \t| read_parquet   \t| to_parquet   \t|\n",
    "| binary      \t| Msgpack              \t| read_msgpack   \t| to_msgpack   \t|\n",
    "| binary      \t| Stata                \t| read_stata     \t| to_stata     \t|\n",
    "| binary      \t| SAS                  \t| read_sas       \t|              \t|\n",
    "| binary      \t| Python Pickle Format \t| read_pickle    \t| to_pickle    \t|\n",
    "| SQL         \t| SQL                  \t| read_sql       \t| to_sql       \t|\n",
    "| SQL         \t| Google Big Query     \t| read_gbq       \t| to_gbq       \t|"
   ]
  },
  {
   "cell_type": "markdown",
   "metadata": {},
   "source": [
    "pandas.read_csv(filepath, sep=',', header=0, skiprow=0, usecols=None, index_col=None, names=None)\n",
    "\n",
    "| Parameters \t| Introduction                                                                                                                              \t|\n",
    "|:------------\t|:-------------------------------------------------------------------------------------------------------------------------------------------\t|\n",
    "| sep        \t| 指定分隔符。如果不指定参数，则会尝试使用逗号分隔。                                                                                        \t|\n",
    "| header     \t| 指定第几行作为列名(忽略注解行)，如果没有指定列名，默认header=0，即第0行; 如果指定了列名header=None，则以位置标为列名。                    \t|\n",
    "| skiprows   \t| 忽略某几行或者从开始算起的几行，default=0                                                                                                 \t|\n",
    "| usecols    \t| 选取指定的列。默认None，可以使用列序列也可以使用列名                                                                                      \t|\n",
    "| index_col  \t| 选取指定的列作为行索引，如果给定一个序列则有多个行索引。                                                                                  \t|\n",
    "| names      \t| 相当于给表加列名，此时header默认为None，若names列表提供的元素个数n少于表中列数m，则提供的元素被设置为后n列的列名，而表的前m-n列被作为索引 \t|"
   ]
  },
  {
   "cell_type": "markdown",
   "metadata": {},
   "source": [
    "## pandas中DataFrame数据合并连接(merge, join, concat)\n",
    "https://blog.csdn.net/qq_41853758/article/details/83280104\n",
    "### pd.concat()\n",
    "pd.concat(objs, axis=0, join='outer', join_axes=None, ignore_index=False, keys=None, levels=None, names=None, verify_integrity=False)<br>\n",
    "objs：series，dataframe或者是panel构成的序列lsit<br>\n",
    "axis：需要合并链接的轴，0是行，1是列 <br>\n",
    "join：连接的方式inner，或者outer<br>\n",
    "(练习：pandas_exercise/05_Merge/Fictitous Names)"
   ]
  },
  {
   "cell_type": "markdown",
   "metadata": {},
   "source": [
    "## 删除某行或某列\n",
    "df1.drop(['列名'],axis=1)  删除整列<br>\n",
    "df1.drop(columns=['列名'])  删除整列<br>\n",
    "df.drop([0,1])  删除索引为0、1的整行"
   ]
  },
  {
   "cell_type": "code",
   "execution_count": null,
   "metadata": {},
   "outputs": [],
   "source": []
  },
  {
   "cell_type": "markdown",
   "metadata": {},
   "source": [
    "## pandas索引和选择数据"
   ]
  },
  {
   "cell_type": "markdown",
   "metadata": {},
   "source": [
    "pandas中有三种索引方法：.loc，.iloc和[]\n",
    ".loc和.iloc只输入一维时选取的是行，而[]选取的是列，并且必须使用列名"
   ]
  },
  {
   "cell_type": "code",
   "execution_count": 5,
   "metadata": {},
   "outputs": [
    {
     "data": {
      "text/html": [
       "<div>\n",
       "<style scoped>\n",
       "    .dataframe tbody tr th:only-of-type {\n",
       "        vertical-align: middle;\n",
       "    }\n",
       "\n",
       "    .dataframe tbody tr th {\n",
       "        vertical-align: top;\n",
       "    }\n",
       "\n",
       "    .dataframe thead th {\n",
       "        text-align: right;\n",
       "    }\n",
       "</style>\n",
       "<table border=\"1\" class=\"dataframe\">\n",
       "  <thead>\n",
       "    <tr style=\"text-align: right;\">\n",
       "      <th></th>\n",
       "      <th>One</th>\n",
       "      <th>Two</th>\n",
       "      <th>Three</th>\n",
       "      <th>Four</th>\n",
       "    </tr>\n",
       "  </thead>\n",
       "  <tbody>\n",
       "    <tr>\n",
       "      <th>a</th>\n",
       "      <td>6</td>\n",
       "      <td>7</td>\n",
       "      <td>5</td>\n",
       "      <td>9</td>\n",
       "    </tr>\n",
       "    <tr>\n",
       "      <th>b</th>\n",
       "      <td>7</td>\n",
       "      <td>8</td>\n",
       "      <td>8</td>\n",
       "      <td>9</td>\n",
       "    </tr>\n",
       "    <tr>\n",
       "      <th>c</th>\n",
       "      <td>14</td>\n",
       "      <td>6</td>\n",
       "      <td>12</td>\n",
       "      <td>12</td>\n",
       "    </tr>\n",
       "    <tr>\n",
       "      <th>d</th>\n",
       "      <td>12</td>\n",
       "      <td>6</td>\n",
       "      <td>6</td>\n",
       "      <td>7</td>\n",
       "    </tr>\n",
       "    <tr>\n",
       "      <th>e</th>\n",
       "      <td>12</td>\n",
       "      <td>6</td>\n",
       "      <td>12</td>\n",
       "      <td>12</td>\n",
       "    </tr>\n",
       "    <tr>\n",
       "      <th>f</th>\n",
       "      <td>11</td>\n",
       "      <td>7</td>\n",
       "      <td>8</td>\n",
       "      <td>10</td>\n",
       "    </tr>\n",
       "  </tbody>\n",
       "</table>\n",
       "</div>"
      ],
      "text/plain": [
       "   One  Two  Three  Four\n",
       "a    6    7      5     9\n",
       "b    7    8      8     9\n",
       "c   14    6     12    12\n",
       "d   12    6      6     7\n",
       "e   12    6     12    12\n",
       "f   11    7      8    10"
      ]
     },
     "execution_count": 5,
     "metadata": {},
     "output_type": "execute_result"
    }
   ],
   "source": [
    "import pandas as pd\n",
    "import numpy as np\n",
    "df = pd.DataFrame(np.random.randint(5,15,(6,4)),index = list('abcdef'),columns=['One','Two','Three','Four'])\n",
    "df"
   ]
  },
  {
   "cell_type": "code",
   "execution_count": 6,
   "metadata": {},
   "outputs": [
    {
     "data": {
      "text/plain": [
       "a    7\n",
       "b    8\n",
       "c    6\n",
       "Name: Two, dtype: int64"
      ]
     },
     "execution_count": 6,
     "metadata": {},
     "output_type": "execute_result"
    }
   ],
   "source": [
    "df.loc['a':'c','Two']"
   ]
  },
  {
   "cell_type": "code",
   "execution_count": 7,
   "metadata": {},
   "outputs": [
    {
     "data": {
      "text/html": [
       "<div>\n",
       "<style scoped>\n",
       "    .dataframe tbody tr th:only-of-type {\n",
       "        vertical-align: middle;\n",
       "    }\n",
       "\n",
       "    .dataframe tbody tr th {\n",
       "        vertical-align: top;\n",
       "    }\n",
       "\n",
       "    .dataframe thead th {\n",
       "        text-align: right;\n",
       "    }\n",
       "</style>\n",
       "<table border=\"1\" class=\"dataframe\">\n",
       "  <thead>\n",
       "    <tr style=\"text-align: right;\">\n",
       "      <th></th>\n",
       "      <th>One</th>\n",
       "      <th>Two</th>\n",
       "      <th>Three</th>\n",
       "      <th>Four</th>\n",
       "    </tr>\n",
       "  </thead>\n",
       "  <tbody>\n",
       "    <tr>\n",
       "      <th>f</th>\n",
       "      <td>11</td>\n",
       "      <td>7</td>\n",
       "      <td>8</td>\n",
       "      <td>10</td>\n",
       "    </tr>\n",
       "    <tr>\n",
       "      <th>b</th>\n",
       "      <td>7</td>\n",
       "      <td>8</td>\n",
       "      <td>8</td>\n",
       "      <td>9</td>\n",
       "    </tr>\n",
       "  </tbody>\n",
       "</table>\n",
       "</div>"
      ],
      "text/plain": [
       "   One  Two  Three  Four\n",
       "f   11    7      8    10\n",
       "b    7    8      8     9"
      ]
     },
     "execution_count": 7,
     "metadata": {},
     "output_type": "execute_result"
    }
   ],
   "source": [
    "df.iloc[[5, 1]]"
   ]
  },
  {
   "cell_type": "code",
   "execution_count": 8,
   "metadata": {},
   "outputs": [
    {
     "data": {
      "text/html": [
       "<div>\n",
       "<style scoped>\n",
       "    .dataframe tbody tr th:only-of-type {\n",
       "        vertical-align: middle;\n",
       "    }\n",
       "\n",
       "    .dataframe tbody tr th {\n",
       "        vertical-align: top;\n",
       "    }\n",
       "\n",
       "    .dataframe thead th {\n",
       "        text-align: right;\n",
       "    }\n",
       "</style>\n",
       "<table border=\"1\" class=\"dataframe\">\n",
       "  <thead>\n",
       "    <tr style=\"text-align: right;\">\n",
       "      <th></th>\n",
       "      <th>Two</th>\n",
       "      <th>One</th>\n",
       "    </tr>\n",
       "  </thead>\n",
       "  <tbody>\n",
       "    <tr>\n",
       "      <th>a</th>\n",
       "      <td>7</td>\n",
       "      <td>6</td>\n",
       "    </tr>\n",
       "    <tr>\n",
       "      <th>b</th>\n",
       "      <td>8</td>\n",
       "      <td>7</td>\n",
       "    </tr>\n",
       "    <tr>\n",
       "      <th>c</th>\n",
       "      <td>6</td>\n",
       "      <td>14</td>\n",
       "    </tr>\n",
       "    <tr>\n",
       "      <th>d</th>\n",
       "      <td>6</td>\n",
       "      <td>12</td>\n",
       "    </tr>\n",
       "    <tr>\n",
       "      <th>e</th>\n",
       "      <td>6</td>\n",
       "      <td>12</td>\n",
       "    </tr>\n",
       "    <tr>\n",
       "      <th>f</th>\n",
       "      <td>7</td>\n",
       "      <td>11</td>\n",
       "    </tr>\n",
       "  </tbody>\n",
       "</table>\n",
       "</div>"
      ],
      "text/plain": [
       "   Two  One\n",
       "a    7    6\n",
       "b    8    7\n",
       "c    6   14\n",
       "d    6   12\n",
       "e    6   12\n",
       "f    7   11"
      ]
     },
     "execution_count": 8,
     "metadata": {},
     "output_type": "execute_result"
    }
   ],
   "source": [
    "df[['Two', 'One']]"
   ]
  },
  {
   "cell_type": "code",
   "execution_count": 9,
   "metadata": {},
   "outputs": [
    {
     "data": {
      "text/html": [
       "<div>\n",
       "<style scoped>\n",
       "    .dataframe tbody tr th:only-of-type {\n",
       "        vertical-align: middle;\n",
       "    }\n",
       "\n",
       "    .dataframe tbody tr th {\n",
       "        vertical-align: top;\n",
       "    }\n",
       "\n",
       "    .dataframe thead th {\n",
       "        text-align: right;\n",
       "    }\n",
       "</style>\n",
       "<table border=\"1\" class=\"dataframe\">\n",
       "  <thead>\n",
       "    <tr style=\"text-align: right;\">\n",
       "      <th></th>\n",
       "      <th>One</th>\n",
       "      <th>Two</th>\n",
       "      <th>Three</th>\n",
       "      <th>Four</th>\n",
       "    </tr>\n",
       "  </thead>\n",
       "  <tbody>\n",
       "    <tr>\n",
       "      <th>c</th>\n",
       "      <td>14</td>\n",
       "      <td>6</td>\n",
       "      <td>12</td>\n",
       "      <td>12</td>\n",
       "    </tr>\n",
       "    <tr>\n",
       "      <th>d</th>\n",
       "      <td>12</td>\n",
       "      <td>6</td>\n",
       "      <td>6</td>\n",
       "      <td>7</td>\n",
       "    </tr>\n",
       "    <tr>\n",
       "      <th>e</th>\n",
       "      <td>12</td>\n",
       "      <td>6</td>\n",
       "      <td>12</td>\n",
       "      <td>12</td>\n",
       "    </tr>\n",
       "    <tr>\n",
       "      <th>f</th>\n",
       "      <td>11</td>\n",
       "      <td>7</td>\n",
       "      <td>8</td>\n",
       "      <td>10</td>\n",
       "    </tr>\n",
       "  </tbody>\n",
       "</table>\n",
       "</div>"
      ],
      "text/plain": [
       "   One  Two  Three  Four\n",
       "c   14    6     12    12\n",
       "d   12    6      6     7\n",
       "e   12    6     12    12\n",
       "f   11    7      8    10"
      ]
     },
     "execution_count": 9,
     "metadata": {},
     "output_type": "execute_result"
    }
   ],
   "source": [
    "df[df.One > 10]"
   ]
  },
  {
   "cell_type": "code",
   "execution_count": 12,
   "metadata": {},
   "outputs": [
    {
     "data": {
      "text/html": [
       "<div>\n",
       "<style scoped>\n",
       "    .dataframe tbody tr th:only-of-type {\n",
       "        vertical-align: middle;\n",
       "    }\n",
       "\n",
       "    .dataframe tbody tr th {\n",
       "        vertical-align: top;\n",
       "    }\n",
       "\n",
       "    .dataframe thead th {\n",
       "        text-align: right;\n",
       "    }\n",
       "</style>\n",
       "<table border=\"1\" class=\"dataframe\">\n",
       "  <thead>\n",
       "    <tr style=\"text-align: right;\">\n",
       "      <th></th>\n",
       "      <th>One</th>\n",
       "      <th>Two</th>\n",
       "      <th>Three</th>\n",
       "      <th>Four</th>\n",
       "    </tr>\n",
       "  </thead>\n",
       "  <tbody>\n",
       "    <tr>\n",
       "      <th>c</th>\n",
       "      <td>14</td>\n",
       "      <td>6</td>\n",
       "      <td>12</td>\n",
       "      <td>12</td>\n",
       "    </tr>\n",
       "    <tr>\n",
       "      <th>d</th>\n",
       "      <td>12</td>\n",
       "      <td>6</td>\n",
       "      <td>6</td>\n",
       "      <td>7</td>\n",
       "    </tr>\n",
       "    <tr>\n",
       "      <th>e</th>\n",
       "      <td>12</td>\n",
       "      <td>6</td>\n",
       "      <td>12</td>\n",
       "      <td>12</td>\n",
       "    </tr>\n",
       "    <tr>\n",
       "      <th>f</th>\n",
       "      <td>11</td>\n",
       "      <td>7</td>\n",
       "      <td>8</td>\n",
       "      <td>10</td>\n",
       "    </tr>\n",
       "  </tbody>\n",
       "</table>\n",
       "</div>"
      ],
      "text/plain": [
       "   One  Two  Three  Four\n",
       "c   14    6     12    12\n",
       "d   12    6      6     7\n",
       "e   12    6     12    12\n",
       "f   11    7      8    10"
      ]
     },
     "execution_count": 12,
     "metadata": {},
     "output_type": "execute_result"
    }
   ],
   "source": [
    "df.loc[df.One > 10]"
   ]
  },
  {
   "cell_type": "code",
   "execution_count": 13,
   "metadata": {},
   "outputs": [
    {
     "data": {
      "text/html": [
       "<div>\n",
       "<style scoped>\n",
       "    .dataframe tbody tr th:only-of-type {\n",
       "        vertical-align: middle;\n",
       "    }\n",
       "\n",
       "    .dataframe tbody tr th {\n",
       "        vertical-align: top;\n",
       "    }\n",
       "\n",
       "    .dataframe thead th {\n",
       "        text-align: right;\n",
       "    }\n",
       "</style>\n",
       "<table border=\"1\" class=\"dataframe\">\n",
       "  <thead>\n",
       "    <tr style=\"text-align: right;\">\n",
       "      <th></th>\n",
       "      <th>One</th>\n",
       "      <th>Two</th>\n",
       "      <th>Three</th>\n",
       "      <th>Four</th>\n",
       "    </tr>\n",
       "  </thead>\n",
       "  <tbody>\n",
       "    <tr>\n",
       "      <th>c</th>\n",
       "      <td>14</td>\n",
       "      <td>6</td>\n",
       "      <td>12</td>\n",
       "      <td>12</td>\n",
       "    </tr>\n",
       "    <tr>\n",
       "      <th>e</th>\n",
       "      <td>12</td>\n",
       "      <td>6</td>\n",
       "      <td>12</td>\n",
       "      <td>12</td>\n",
       "    </tr>\n",
       "  </tbody>\n",
       "</table>\n",
       "</div>"
      ],
      "text/plain": [
       "   One  Two  Three  Four\n",
       "c   14    6     12    12\n",
       "e   12    6     12    12"
      ]
     },
     "execution_count": 13,
     "metadata": {},
     "output_type": "execute_result"
    }
   ],
   "source": [
    "df[(df.One > 5) & (df.Three > 10)]"
   ]
  },
  {
   "cell_type": "markdown",
   "metadata": {},
   "source": [
    "## isin函数 （条件前加~表示isin的逆函数）\n",
    "\n",
    "1. 返回含有具体条件的dataframe, 如返回'One'列中含有 [10,11] 的dataframe( 用逆函数对筛选后的结果取余，起删除指定行作用 )"
   ]
  },
  {
   "cell_type": "code",
   "execution_count": 14,
   "metadata": {},
   "outputs": [
    {
     "data": {
      "text/html": [
       "<div>\n",
       "<style scoped>\n",
       "    .dataframe tbody tr th:only-of-type {\n",
       "        vertical-align: middle;\n",
       "    }\n",
       "\n",
       "    .dataframe tbody tr th {\n",
       "        vertical-align: top;\n",
       "    }\n",
       "\n",
       "    .dataframe thead th {\n",
       "        text-align: right;\n",
       "    }\n",
       "</style>\n",
       "<table border=\"1\" class=\"dataframe\">\n",
       "  <thead>\n",
       "    <tr style=\"text-align: right;\">\n",
       "      <th></th>\n",
       "      <th>One</th>\n",
       "      <th>Two</th>\n",
       "      <th>Three</th>\n",
       "      <th>Four</th>\n",
       "    </tr>\n",
       "  </thead>\n",
       "  <tbody>\n",
       "    <tr>\n",
       "      <th>d</th>\n",
       "      <td>12</td>\n",
       "      <td>6</td>\n",
       "      <td>6</td>\n",
       "      <td>7</td>\n",
       "    </tr>\n",
       "    <tr>\n",
       "      <th>e</th>\n",
       "      <td>12</td>\n",
       "      <td>6</td>\n",
       "      <td>12</td>\n",
       "      <td>12</td>\n",
       "    </tr>\n",
       "    <tr>\n",
       "      <th>f</th>\n",
       "      <td>11</td>\n",
       "      <td>7</td>\n",
       "      <td>8</td>\n",
       "      <td>10</td>\n",
       "    </tr>\n",
       "  </tbody>\n",
       "</table>\n",
       "</div>"
      ],
      "text/plain": [
       "   One  Two  Three  Four\n",
       "d   12    6      6     7\n",
       "e   12    6     12    12\n",
       "f   11    7      8    10"
      ]
     },
     "execution_count": 14,
     "metadata": {},
     "output_type": "execute_result"
    }
   ],
   "source": [
    "df[df['One'].isin([11,12])]"
   ]
  },
  {
   "cell_type": "code",
   "execution_count": 15,
   "metadata": {},
   "outputs": [
    {
     "data": {
      "text/html": [
       "<div>\n",
       "<style scoped>\n",
       "    .dataframe tbody tr th:only-of-type {\n",
       "        vertical-align: middle;\n",
       "    }\n",
       "\n",
       "    .dataframe tbody tr th {\n",
       "        vertical-align: top;\n",
       "    }\n",
       "\n",
       "    .dataframe thead th {\n",
       "        text-align: right;\n",
       "    }\n",
       "</style>\n",
       "<table border=\"1\" class=\"dataframe\">\n",
       "  <thead>\n",
       "    <tr style=\"text-align: right;\">\n",
       "      <th></th>\n",
       "      <th>One</th>\n",
       "      <th>Two</th>\n",
       "      <th>Three</th>\n",
       "      <th>Four</th>\n",
       "    </tr>\n",
       "  </thead>\n",
       "  <tbody>\n",
       "    <tr>\n",
       "      <th>a</th>\n",
       "      <td>6</td>\n",
       "      <td>7</td>\n",
       "      <td>5</td>\n",
       "      <td>9</td>\n",
       "    </tr>\n",
       "    <tr>\n",
       "      <th>b</th>\n",
       "      <td>7</td>\n",
       "      <td>8</td>\n",
       "      <td>8</td>\n",
       "      <td>9</td>\n",
       "    </tr>\n",
       "    <tr>\n",
       "      <th>c</th>\n",
       "      <td>14</td>\n",
       "      <td>6</td>\n",
       "      <td>12</td>\n",
       "      <td>12</td>\n",
       "    </tr>\n",
       "  </tbody>\n",
       "</table>\n",
       "</div>"
      ],
      "text/plain": [
       "   One  Two  Three  Four\n",
       "a    6    7      5     9\n",
       "b    7    8      8     9\n",
       "c   14    6     12    12"
      ]
     },
     "execution_count": 15,
     "metadata": {},
     "output_type": "execute_result"
    }
   ],
   "source": [
    "df[~df['One'].isin([11,12])]"
   ]
  },
  {
   "cell_type": "markdown",
   "metadata": {},
   "source": [
    "2. 返回含有多个条件的dataframe, 如返回'One'列中含有11, 'Two'列中含有7的dataframe"
   ]
  },
  {
   "cell_type": "code",
   "execution_count": 16,
   "metadata": {},
   "outputs": [
    {
     "data": {
      "text/html": [
       "<div>\n",
       "<style scoped>\n",
       "    .dataframe tbody tr th:only-of-type {\n",
       "        vertical-align: middle;\n",
       "    }\n",
       "\n",
       "    .dataframe tbody tr th {\n",
       "        vertical-align: top;\n",
       "    }\n",
       "\n",
       "    .dataframe thead th {\n",
       "        text-align: right;\n",
       "    }\n",
       "</style>\n",
       "<table border=\"1\" class=\"dataframe\">\n",
       "  <thead>\n",
       "    <tr style=\"text-align: right;\">\n",
       "      <th></th>\n",
       "      <th>One</th>\n",
       "      <th>Two</th>\n",
       "      <th>Three</th>\n",
       "      <th>Four</th>\n",
       "    </tr>\n",
       "  </thead>\n",
       "  <tbody>\n",
       "    <tr>\n",
       "      <th>f</th>\n",
       "      <td>11</td>\n",
       "      <td>7</td>\n",
       "      <td>8</td>\n",
       "      <td>10</td>\n",
       "    </tr>\n",
       "  </tbody>\n",
       "</table>\n",
       "</div>"
      ],
      "text/plain": [
       "   One  Two  Three  Four\n",
       "f   11    7      8    10"
      ]
     },
     "execution_count": 16,
     "metadata": {},
     "output_type": "execute_result"
    }
   ],
   "source": [
    "df[df['One'].isin([11]) & df['Two'].isin([7])]"
   ]
  },
  {
   "cell_type": "code",
   "execution_count": 21,
   "metadata": {},
   "outputs": [
    {
     "data": {
      "text/html": [
       "<div>\n",
       "<style scoped>\n",
       "    .dataframe tbody tr th:only-of-type {\n",
       "        vertical-align: middle;\n",
       "    }\n",
       "\n",
       "    .dataframe tbody tr th {\n",
       "        vertical-align: top;\n",
       "    }\n",
       "\n",
       "    .dataframe thead th {\n",
       "        text-align: right;\n",
       "    }\n",
       "</style>\n",
       "<table border=\"1\" class=\"dataframe\">\n",
       "  <thead>\n",
       "    <tr style=\"text-align: right;\">\n",
       "      <th></th>\n",
       "      <th>One</th>\n",
       "      <th>Two</th>\n",
       "      <th>Three</th>\n",
       "      <th>Four</th>\n",
       "    </tr>\n",
       "  </thead>\n",
       "  <tbody>\n",
       "    <tr>\n",
       "      <th>a</th>\n",
       "      <td>6</td>\n",
       "      <td>7</td>\n",
       "      <td>5</td>\n",
       "      <td>9</td>\n",
       "    </tr>\n",
       "    <tr>\n",
       "      <th>b</th>\n",
       "      <td>7</td>\n",
       "      <td>8</td>\n",
       "      <td>8</td>\n",
       "      <td>9</td>\n",
       "    </tr>\n",
       "    <tr>\n",
       "      <th>c</th>\n",
       "      <td>14</td>\n",
       "      <td>6</td>\n",
       "      <td>12</td>\n",
       "      <td>12</td>\n",
       "    </tr>\n",
       "    <tr>\n",
       "      <th>d</th>\n",
       "      <td>12</td>\n",
       "      <td>6</td>\n",
       "      <td>6</td>\n",
       "      <td>7</td>\n",
       "    </tr>\n",
       "    <tr>\n",
       "      <th>e</th>\n",
       "      <td>12</td>\n",
       "      <td>6</td>\n",
       "      <td>12</td>\n",
       "      <td>12</td>\n",
       "    </tr>\n",
       "  </tbody>\n",
       "</table>\n",
       "</div>"
      ],
      "text/plain": [
       "   One  Two  Three  Four\n",
       "a    6    7      5     9\n",
       "b    7    8      8     9\n",
       "c   14    6     12    12\n",
       "d   12    6      6     7\n",
       "e   12    6     12    12"
      ]
     },
     "execution_count": 21,
     "metadata": {},
     "output_type": "execute_result"
    }
   ],
   "source": [
    "df[~(df['One'].isin([11]) & df['Two'].isin([7]))]"
   ]
  },
  {
   "cell_type": "markdown",
   "metadata": {},
   "source": [
    "3. 返回含有条件所在行的行号（Index）"
   ]
  },
  {
   "cell_type": "code",
   "execution_count": 23,
   "metadata": {},
   "outputs": [
    {
     "data": {
      "text/plain": [
       "['d', 'e']"
      ]
     },
     "execution_count": 23,
     "metadata": {},
     "output_type": "execute_result"
    }
   ],
   "source": [
    "list(df[df['One'].isin([12])].index)"
   ]
  },
  {
   "cell_type": "markdown",
   "metadata": {},
   "source": [
    "## set_index()"
   ]
  },
  {
   "cell_type": "markdown",
   "metadata": {},
   "source": [
    "set_index( ) 将 DataFrame 中的列转化为行索引。可设置参数drop=False来保留原来的列"
   ]
  },
  {
   "cell_type": "code",
   "execution_count": 8,
   "metadata": {},
   "outputs": [
    {
     "data": {
      "text/html": [
       "<div>\n",
       "<style scoped>\n",
       "    .dataframe tbody tr th:only-of-type {\n",
       "        vertical-align: middle;\n",
       "    }\n",
       "\n",
       "    .dataframe tbody tr th {\n",
       "        vertical-align: top;\n",
       "    }\n",
       "\n",
       "    .dataframe thead th {\n",
       "        text-align: right;\n",
       "    }\n",
       "</style>\n",
       "<table border=\"1\" class=\"dataframe\">\n",
       "  <thead>\n",
       "    <tr style=\"text-align: right;\">\n",
       "      <th></th>\n",
       "      <th>One</th>\n",
       "      <th>Two</th>\n",
       "      <th>Four</th>\n",
       "    </tr>\n",
       "    <tr>\n",
       "      <th>Three</th>\n",
       "      <th></th>\n",
       "      <th></th>\n",
       "      <th></th>\n",
       "    </tr>\n",
       "  </thead>\n",
       "  <tbody>\n",
       "    <tr>\n",
       "      <th>5</th>\n",
       "      <td>7</td>\n",
       "      <td>10</td>\n",
       "      <td>6</td>\n",
       "    </tr>\n",
       "    <tr>\n",
       "      <th>9</th>\n",
       "      <td>6</td>\n",
       "      <td>7</td>\n",
       "      <td>12</td>\n",
       "    </tr>\n",
       "    <tr>\n",
       "      <th>13</th>\n",
       "      <td>11</td>\n",
       "      <td>10</td>\n",
       "      <td>14</td>\n",
       "    </tr>\n",
       "    <tr>\n",
       "      <th>7</th>\n",
       "      <td>13</td>\n",
       "      <td>14</td>\n",
       "      <td>11</td>\n",
       "    </tr>\n",
       "    <tr>\n",
       "      <th>11</th>\n",
       "      <td>14</td>\n",
       "      <td>11</td>\n",
       "      <td>5</td>\n",
       "    </tr>\n",
       "    <tr>\n",
       "      <th>9</th>\n",
       "      <td>8</td>\n",
       "      <td>13</td>\n",
       "      <td>6</td>\n",
       "    </tr>\n",
       "  </tbody>\n",
       "</table>\n",
       "</div>"
      ],
      "text/plain": [
       "       One  Two  Four\n",
       "Three                \n",
       "5        7   10     6\n",
       "9        6    7    12\n",
       "13      11   10    14\n",
       "7       13   14    11\n",
       "11      14   11     5\n",
       "9        8   13     6"
      ]
     },
     "execution_count": 8,
     "metadata": {},
     "output_type": "execute_result"
    }
   ],
   "source": [
    "df.set_index('Three')"
   ]
  },
  {
   "cell_type": "code",
   "execution_count": 9,
   "metadata": {
    "scrolled": true
   },
   "outputs": [
    {
     "data": {
      "text/html": [
       "<div>\n",
       "<style scoped>\n",
       "    .dataframe tbody tr th:only-of-type {\n",
       "        vertical-align: middle;\n",
       "    }\n",
       "\n",
       "    .dataframe tbody tr th {\n",
       "        vertical-align: top;\n",
       "    }\n",
       "\n",
       "    .dataframe thead th {\n",
       "        text-align: right;\n",
       "    }\n",
       "</style>\n",
       "<table border=\"1\" class=\"dataframe\">\n",
       "  <thead>\n",
       "    <tr style=\"text-align: right;\">\n",
       "      <th></th>\n",
       "      <th>One</th>\n",
       "      <th>Two</th>\n",
       "      <th>Three</th>\n",
       "      <th>Four</th>\n",
       "    </tr>\n",
       "    <tr>\n",
       "      <th>Three</th>\n",
       "      <th></th>\n",
       "      <th></th>\n",
       "      <th></th>\n",
       "      <th></th>\n",
       "    </tr>\n",
       "  </thead>\n",
       "  <tbody>\n",
       "    <tr>\n",
       "      <th>5</th>\n",
       "      <td>7</td>\n",
       "      <td>10</td>\n",
       "      <td>5</td>\n",
       "      <td>6</td>\n",
       "    </tr>\n",
       "    <tr>\n",
       "      <th>9</th>\n",
       "      <td>6</td>\n",
       "      <td>7</td>\n",
       "      <td>9</td>\n",
       "      <td>12</td>\n",
       "    </tr>\n",
       "    <tr>\n",
       "      <th>13</th>\n",
       "      <td>11</td>\n",
       "      <td>10</td>\n",
       "      <td>13</td>\n",
       "      <td>14</td>\n",
       "    </tr>\n",
       "    <tr>\n",
       "      <th>7</th>\n",
       "      <td>13</td>\n",
       "      <td>14</td>\n",
       "      <td>7</td>\n",
       "      <td>11</td>\n",
       "    </tr>\n",
       "    <tr>\n",
       "      <th>11</th>\n",
       "      <td>14</td>\n",
       "      <td>11</td>\n",
       "      <td>11</td>\n",
       "      <td>5</td>\n",
       "    </tr>\n",
       "    <tr>\n",
       "      <th>9</th>\n",
       "      <td>8</td>\n",
       "      <td>13</td>\n",
       "      <td>9</td>\n",
       "      <td>6</td>\n",
       "    </tr>\n",
       "  </tbody>\n",
       "</table>\n",
       "</div>"
      ],
      "text/plain": [
       "       One  Two  Three  Four\n",
       "Three                       \n",
       "5        7   10      5     6\n",
       "9        6    7      9    12\n",
       "13      11   10     13    14\n",
       "7       13   14      7    11\n",
       "11      14   11     11     5\n",
       "9        8   13      9     6"
      ]
     },
     "execution_count": 9,
     "metadata": {},
     "output_type": "execute_result"
    }
   ],
   "source": [
    "df.set_index('Three',drop=False)"
   ]
  },
  {
   "cell_type": "markdown",
   "metadata": {},
   "source": [
    "## .describe() 查看该份数据的描述统计"
   ]
  },
  {
   "cell_type": "code",
   "execution_count": 3,
   "metadata": {},
   "outputs": [
    {
     "data": {
      "text/html": [
       "<div>\n",
       "<style scoped>\n",
       "    .dataframe tbody tr th:only-of-type {\n",
       "        vertical-align: middle;\n",
       "    }\n",
       "\n",
       "    .dataframe tbody tr th {\n",
       "        vertical-align: top;\n",
       "    }\n",
       "\n",
       "    .dataframe thead th {\n",
       "        text-align: right;\n",
       "    }\n",
       "</style>\n",
       "<table border=\"1\" class=\"dataframe\">\n",
       "  <thead>\n",
       "    <tr style=\"text-align: right;\">\n",
       "      <th></th>\n",
       "      <th>One</th>\n",
       "      <th>Two</th>\n",
       "      <th>Three</th>\n",
       "      <th>Four</th>\n",
       "    </tr>\n",
       "  </thead>\n",
       "  <tbody>\n",
       "    <tr>\n",
       "      <th>count</th>\n",
       "      <td>6.000000</td>\n",
       "      <td>6.000000</td>\n",
       "      <td>6.000000</td>\n",
       "      <td>6.000000</td>\n",
       "    </tr>\n",
       "    <tr>\n",
       "      <th>mean</th>\n",
       "      <td>9.666667</td>\n",
       "      <td>9.166667</td>\n",
       "      <td>8.833333</td>\n",
       "      <td>8.166667</td>\n",
       "    </tr>\n",
       "    <tr>\n",
       "      <th>std</th>\n",
       "      <td>2.503331</td>\n",
       "      <td>2.562551</td>\n",
       "      <td>3.188521</td>\n",
       "      <td>2.228602</td>\n",
       "    </tr>\n",
       "    <tr>\n",
       "      <th>min</th>\n",
       "      <td>7.000000</td>\n",
       "      <td>7.000000</td>\n",
       "      <td>5.000000</td>\n",
       "      <td>5.000000</td>\n",
       "    </tr>\n",
       "    <tr>\n",
       "      <th>25%</th>\n",
       "      <td>8.250000</td>\n",
       "      <td>7.000000</td>\n",
       "      <td>7.250000</td>\n",
       "      <td>7.000000</td>\n",
       "    </tr>\n",
       "    <tr>\n",
       "      <th>50%</th>\n",
       "      <td>9.000000</td>\n",
       "      <td>8.500000</td>\n",
       "      <td>8.000000</td>\n",
       "      <td>8.000000</td>\n",
       "    </tr>\n",
       "    <tr>\n",
       "      <th>75%</th>\n",
       "      <td>10.500000</td>\n",
       "      <td>10.750000</td>\n",
       "      <td>10.250000</td>\n",
       "      <td>9.750000</td>\n",
       "    </tr>\n",
       "    <tr>\n",
       "      <th>max</th>\n",
       "      <td>14.000000</td>\n",
       "      <td>13.000000</td>\n",
       "      <td>14.000000</td>\n",
       "      <td>11.000000</td>\n",
       "    </tr>\n",
       "  </tbody>\n",
       "</table>\n",
       "</div>"
      ],
      "text/plain": [
       "             One        Two      Three       Four\n",
       "count   6.000000   6.000000   6.000000   6.000000\n",
       "mean    9.666667   9.166667   8.833333   8.166667\n",
       "std     2.503331   2.562551   3.188521   2.228602\n",
       "min     7.000000   7.000000   5.000000   5.000000\n",
       "25%     8.250000   7.000000   7.250000   7.000000\n",
       "50%     9.000000   8.500000   8.000000   8.000000\n",
       "75%    10.500000  10.750000  10.250000   9.750000\n",
       "max    14.000000  13.000000  14.000000  11.000000"
      ]
     },
     "execution_count": 3,
     "metadata": {},
     "output_type": "execute_result"
    }
   ],
   "source": [
    "df.describe()"
   ]
  },
  {
   "cell_type": "markdown",
   "metadata": {},
   "source": [
    "## 处理缺失值\n",
    "### 删除含缺失值的样本"
   ]
  },
  {
   "cell_type": "code",
   "execution_count": null,
   "metadata": {},
   "outputs": [],
   "source": [
    "df.isnull()  #是缺失值返回True，否则范围False\n",
    "df.isnull().sum()  #返回每列包含的缺失值的个数\n",
    "df.dropna()  #直接删除含有缺失值的行\n",
    "df.dropna(axis=1)  #直接删除含有缺失值的列\n",
    "df.dropna(how='all')  #只删除全是缺失值的行\n",
    "df.dropna(thresh=4)  #保留至少有4个缺失值的行\n",
    "df.dropna(subset=['C'])  #删除含有缺失值的特定的列"
   ]
  },
  {
   "cell_type": "markdown",
   "metadata": {},
   "source": [
    "### 填充缺失值 fillna()"
   ]
  },
  {
   "cell_type": "code",
   "execution_count": null,
   "metadata": {},
   "outputs": [],
   "source": [
    "df.fillna(0)  #用0填充\n",
    "df.fillna(method='pad')  #用前一个数值填充\n",
    "df.fillna(df2.mean())  #用该列均值填充"
   ]
  },
  {
   "cell_type": "markdown",
   "metadata": {},
   "source": [
    "## df.drop_duplicates() 处理重复值\n",
    "df.drop_duplicates(subset=None, keep='first', inplace=False)\n",
    "\n",
    "| Parameters \t| Description                                                                                                                                                           \t|\n",
    "|:------------\t|:-----------------------------------------------------------------------------------------------------------------------------------------------------------------------\t|\n",
    "| subset     \t| 列名，可选，默认为None                                                                                                                                                \t|\n",
    "| inplace    \t| 为布尔值，默认为False，是否直接在原数据上删除重复项或删除重复项后返回副本。<br>（inplace=True表示直接在原来的DataFrame上删除重复项，而默认值False表示生成一个副本。） \t|\n",
    "| keep       \t| {‘first’, ‘last’, False}, 默认值 ‘first’<br>①first：保留第一次出现的重复行，删除后面的重复行；<br>②last： 删除重复项，除了最后一次出现；<br>③False：删除所有重复项。  \t|"
   ]
  },
  {
   "cell_type": "markdown",
   "metadata": {},
   "source": [
    "## rolling() 计算移动平均"
   ]
  },
  {
   "cell_type": "code",
   "execution_count": 17,
   "metadata": {},
   "outputs": [
    {
     "data": {
      "text/html": [
       "<div>\n",
       "<style scoped>\n",
       "    .dataframe tbody tr th:only-of-type {\n",
       "        vertical-align: middle;\n",
       "    }\n",
       "\n",
       "    .dataframe tbody tr th {\n",
       "        vertical-align: top;\n",
       "    }\n",
       "\n",
       "    .dataframe thead th {\n",
       "        text-align: right;\n",
       "    }\n",
       "</style>\n",
       "<table border=\"1\" class=\"dataframe\">\n",
       "  <thead>\n",
       "    <tr style=\"text-align: right;\">\n",
       "      <th></th>\n",
       "      <th>One</th>\n",
       "      <th>Two</th>\n",
       "      <th>Three</th>\n",
       "      <th>Four</th>\n",
       "      <th>ave</th>\n",
       "    </tr>\n",
       "  </thead>\n",
       "  <tbody>\n",
       "    <tr>\n",
       "      <th>a</th>\n",
       "      <td>13</td>\n",
       "      <td>10</td>\n",
       "      <td>14</td>\n",
       "      <td>12</td>\n",
       "      <td>NaN</td>\n",
       "    </tr>\n",
       "    <tr>\n",
       "      <th>b</th>\n",
       "      <td>11</td>\n",
       "      <td>6</td>\n",
       "      <td>7</td>\n",
       "      <td>9</td>\n",
       "      <td>NaN</td>\n",
       "    </tr>\n",
       "    <tr>\n",
       "      <th>c</th>\n",
       "      <td>7</td>\n",
       "      <td>6</td>\n",
       "      <td>5</td>\n",
       "      <td>9</td>\n",
       "      <td>10.000000</td>\n",
       "    </tr>\n",
       "    <tr>\n",
       "      <th>d</th>\n",
       "      <td>11</td>\n",
       "      <td>12</td>\n",
       "      <td>13</td>\n",
       "      <td>9</td>\n",
       "      <td>9.000000</td>\n",
       "    </tr>\n",
       "    <tr>\n",
       "      <th>e</th>\n",
       "      <td>10</td>\n",
       "      <td>5</td>\n",
       "      <td>9</td>\n",
       "      <td>8</td>\n",
       "      <td>8.666667</td>\n",
       "    </tr>\n",
       "    <tr>\n",
       "      <th>f</th>\n",
       "      <td>11</td>\n",
       "      <td>8</td>\n",
       "      <td>5</td>\n",
       "      <td>12</td>\n",
       "      <td>9.666667</td>\n",
       "    </tr>\n",
       "  </tbody>\n",
       "</table>\n",
       "</div>"
      ],
      "text/plain": [
       "   One  Two  Three  Four        ave\n",
       "a   13   10     14    12        NaN\n",
       "b   11    6      7     9        NaN\n",
       "c    7    6      5     9  10.000000\n",
       "d   11   12     13     9   9.000000\n",
       "e   10    5      9     8   8.666667\n",
       "f   11    8      5    12   9.666667"
      ]
     },
     "execution_count": 17,
     "metadata": {},
     "output_type": "execute_result"
    }
   ],
   "source": [
    "df['ave'] = df['Four'].rolling(window=3).mean()\n",
    "df"
   ]
  },
  {
   "cell_type": "markdown",
   "metadata": {},
   "source": [
    "## value_counts()计数函数\n",
    "value_counts(normalize=False, sort=True, ascending=False, bins=None, dropna=True)<br>\n",
    "返回值类型是series<br>\n",
    "`df['column name'].value_counts()`"
   ]
  },
  {
   "cell_type": "markdown",
   "metadata": {},
   "source": [
    "| Parameters \t| Introduction                                                                             \t|\n",
    "|:------------\t|:------------------------------------------------------------------------------------------\t|\n",
    "| normalize  \t| boolean, default False，如为true，则以百分比的形式显示                        \t|\n",
    "| sort       \t| boolean, default True，会对结果进行排序，如果为True，则与原表格顺序相同                                       \t|\n",
    "| ascending  \t| boolean, default False，默认降序排序                                                     \t|\n",
    "| bins       \t| integer, 格式(bins=1)，意义不是执行计算，而是把它们分成半开放的数据集合，只适用于数字数据 \t|\n",
    "| dropna     \t| boolean, default True　默认删除NaN值                                                      \t|"
   ]
  },
  {
   "cell_type": "markdown",
   "metadata": {},
   "source": [
    "## df.sort_values()\n",
    "`DataFrame.sort_values(by, axis=0, ascending=True, inplace=False, kind='quicksort', na_position='last')`\n",
    "\n",
    "| Parameters  \t| Description                                                                                                  \t|\n",
    "|:-------------\t|:--------------------------------------------------------------------------------------------------------------\t|\n",
    "| by          \t| 指定列名(axis=0或'index')或索引值(axis=1或'columns')                                                         \t|\n",
    "| axis        \t| 若axis=0或'index'，则按照指定列中数据大小排序；若axis=1或'columns'，则按照指定索引中数据大小排序，默认axis=0 \t|\n",
    "| ascending   \t| 是否按指定列的数组升序排列，默认为True，即升序排列                                                           \t|\n",
    "| inplace     \t| 是否用排序后的数据集替换原來的数据，默认为False，即不替换                                                    \t|\n",
    "| na_position \t| {'first','last'}，设定缺失值的显示位置                                                                       \t|"
   ]
  },
  {
   "cell_type": "markdown",
   "metadata": {},
   "source": [
    "## pd.to_datetime()处理时间序列\n",
    "`pandas.to_datetime(arg，errors ='raise'，utc = None，format = None，unit = None)`\n",
    "\n",
    "| Parameters \t| Description                                                                                                                                               \t|\n",
    "| :------------\t|:-----------------------------------------------------------------------------------------------------------------------------------------------------------\t|\n",
    "| errors     \t| 三种取值，'ignore','raise','coerce'，默认为raise.<br>'raise'，无效的解析将引发异常<br>'coerce'，无效解析将被设置为NaT<br>'ignore'，无效的解析将返回输入值 \t|\n",
    "| utc        \t| 布尔值，默认为None，返回utc即协调世界时                                                                                                                   \t|\n",
    "| format     \t| 格式化显示时间的格式                                                                                                                                      \t|\n",
    "| unit       \t| 默认值为'ns'，则将会精确到微秒，'s'为秒                                                                                                                   \t|"
   ]
  },
  {
   "cell_type": "markdown",
   "metadata": {},
   "source": [
    "## df.resample() 时间聚合"
   ]
  },
  {
   "cell_type": "raw",
   "metadata": {},
   "source": [
    "DataFrame.resample(rule, axis=0, fill_method=None, closed=None, label=None, convention='start', kind=None,   \n",
    "                   loffset=None, limit=None, base=0, on=None, level=None)"
   ]
  },
  {
   "cell_type": "markdown",
   "metadata": {},
   "source": [
    "| Parameters  \t| Introduction                                                                                                                                                                                              \t|\n",
    "|:-------------\t|:-----------------------------------------------------------------------------------------------------------------------------------------------------------------------------------------------------------\t|\n",
    "| rule        \t|  表示目标转换的偏移字符串或对象，一般是时间参数，比如“M”，“A”，“Q”，“BM”，“BA”，“BQ”和“W”；                                                                                                               \t|\n",
    "| axis        \t|  int, optional, default 0                                                                                                                                                                                 \t|\n",
    "| closed      \t|  {‘right’,   ‘left’}；间隔的哪一侧是关闭的，对于除“M”，“A”，“Q”，“BM”，“BA”，“BQ”和“W”之外的所有频率偏移，默认值为“左”，其默认值均为“右”                                                                  \t|\n",
    "| label       \t|  {‘right’,   ‘left’}；用于标记bins，间隔的哪一侧是关闭的，对于除“M”，“A”，“Q”，“BM”，“BA”，“BQ”和“W”之外的所有频率偏移，默认值为“左”，其默认值均为“右”                                                    \t|\n",
    "| convention  \t|  {‘start’, ‘end’, ‘s’, ‘e’}：For   PeriodIndex only, controls whether to use the start or end of rule                                                                                                     \t|\n",
    "| kind        \t|  {‘timestamp’, ‘period’},   optional；Pass ‘timestamp’ to convert the resulting index to a DateTimeIndex   or ‘period’ to convert it to a PeriodIndex. By default the input   representation is retained. \t|\n",
    "| loffset     \t|  调整重新采样的时间标签                                                                                                                                                                                   \t|\n",
    "| on          \t|  对于DataFrame，要使用的列而不是索引进行重新采样。列必须与日期时间相似的数据。                                                                                                                            \t|"
   ]
  },
  {
   "cell_type": "markdown",
   "metadata": {},
   "source": [
    "| Date Offset                              \t| Frequency String \t| Description                                           \t|\n",
    "|:------------------------------------------\t|:------------------\t|:-------------------------------------------------------\t|\n",
    "| DateOffset                               \t| None             \t| Generic offset class, defaults to 1 calendar day      \t|\n",
    "| BDay or BusinessDay                      \t| 'B'              \t| business day (weekday)                                \t|\n",
    "| CDay or CustomBusinessDay                \t| 'C'              \t| custom business day                                   \t|\n",
    "| Week                                     \t| 'W'              \t| one week, optionally anchored on a day of the week    \t|\n",
    "| WeekOfMonth                              \t| 'WOM'            \t| the x-th day of the y-th week of each month           \t|\n",
    "| LastWeekOfMonth                          \t| 'LWOM'           \t| the x-th day of the last week of each month           \t|\n",
    "| MonthEnd                                 \t| 'M'              \t| calendar month end                                    \t|\n",
    "| MonthBegin                               \t| 'MS'             \t| calendar month begin                                  \t|\n",
    "| BMonthEnd or BusinessMonthEnd            \t| 'BM'             \t| business month end                                    \t|\n",
    "| BMonthBegin or BusinessMonthBegin        \t| 'BMS'            \t| business month begin                                  \t|\n",
    "| CBMonthEnd or CustomBusinessMonthEnd     \t| 'CBM'            \t| custom business month end                             \t|\n",
    "| CBMonthBegin or CustomBusinessMonthBegin \t| 'CBMS'           \t| custom business month begin                           \t|\n",
    "| SemiMonthEnd                             \t| 'SM'             \t| 15th (or other day_of_month) and calendar month end   \t|\n",
    "| SemiMonthBegin                           \t| 'SMS'            \t| 15th (or other day_of_month) and calendar month begin \t|\n",
    "| QuarterEnd                               \t| 'Q'              \t| calendar quarter end                                  \t|\n",
    "| QuarterBegin                             \t| 'QS'             \t| calendar quarter begin                                \t|\n",
    "| BQuarterEnd                              \t| 'BQ              \t| business quarter end                                  \t|\n",
    "| BQuarterBegin                            \t| 'BQS'            \t| business quarter begin                                \t|\n",
    "| FY5253Quarter                            \t| 'REQ'            \t| retail (aka 52-53 week) quarter                       \t|\n",
    "| YearEnd                                  \t| 'A'              \t| calendar year end                                     \t|\n",
    "| YearBegin                                \t| 'AS' or 'BYS'    \t| calendar year begin                                   \t|\n",
    "| BYearEnd                                 \t| 'BA'             \t| business year end                                     \t|\n",
    "| BYearBegin                               \t| 'BAS'            \t| business year begin                                   \t|\n",
    "| FY5253                                   \t| 'RE'             \t| retail (aka 52-53 week) year                          \t|\n",
    "| Easter                                   \t| None             \t| Easter holiday                                        \t|\n",
    "| BusinessHour                             \t| 'BH'             \t| business hour                                         \t|\n",
    "| CustomBusinessHour                       \t| 'CBH'            \t| custom business hour                                  \t|\n",
    "| Day                                      \t| 'D'              \t| one absolute day                                      \t|\n",
    "| Hour                                     \t| 'H'              \t| one hour                                              \t|\n",
    "| Minute                                   \t| 'T' or 'min'     \t| one minute                                            \t|\n",
    "| Second                                   \t| 'S'              \t| one second                                            \t|\n",
    "| Milli                                    \t| 'L' or 'ms'      \t| one millisecond                                       \t|\n",
    "| Micro                                    \t| 'U' or 'us'      \t| one microsecond                                       \t|\n",
    "| Nano                                     \t| 'N'              \t| one nanosecond                                        \t|"
   ]
  },
  {
   "cell_type": "code",
   "execution_count": null,
   "metadata": {},
   "outputs": [],
   "source": []
  }
 ],
 "metadata": {
  "kernelspec": {
   "display_name": "Python 3",
   "language": "python",
   "name": "python3"
  },
  "language_info": {
   "codemirror_mode": {
    "name": "ipython",
    "version": 3
   },
   "file_extension": ".py",
   "mimetype": "text/x-python",
   "name": "python",
   "nbconvert_exporter": "python",
   "pygments_lexer": "ipython3",
   "version": "3.7.6"
  },
  "varInspector": {
   "cols": {
    "lenName": 16,
    "lenType": 16,
    "lenVar": 40
   },
   "kernels_config": {
    "python": {
     "delete_cmd_postfix": "",
     "delete_cmd_prefix": "del ",
     "library": "var_list.py",
     "varRefreshCmd": "print(var_dic_list())"
    },
    "r": {
     "delete_cmd_postfix": ") ",
     "delete_cmd_prefix": "rm(",
     "library": "var_list.r",
     "varRefreshCmd": "cat(var_dic_list()) "
    }
   },
   "types_to_exclude": [
    "module",
    "function",
    "builtin_function_or_method",
    "instance",
    "_Feature"
   ],
   "window_display": false
  }
 },
 "nbformat": 4,
 "nbformat_minor": 4
}
